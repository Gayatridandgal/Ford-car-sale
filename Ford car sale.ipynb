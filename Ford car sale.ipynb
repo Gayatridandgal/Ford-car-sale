{
 "cells": [
  {
   "cell_type": "code",
   "execution_count": 1,
   "id": "db3fa4be",
   "metadata": {},
   "outputs": [],
   "source": [
    "import pandas as pd\n",
    "import numpy as np\n",
    "import matplotlib.pyplot as plt\n",
    "import seaborn as sns\n",
    "data=pd.read_csv(r\"C:\\Users\\Acer\\Desktop\\dataset\\ford.csv\")"
   ]
  },
  {
   "cell_type": "code",
   "execution_count": 2,
   "id": "189dba1f",
   "metadata": {},
   "outputs": [
    {
     "data": {
      "text/html": [
       "<div>\n",
       "<style scoped>\n",
       "    .dataframe tbody tr th:only-of-type {\n",
       "        vertical-align: middle;\n",
       "    }\n",
       "\n",
       "    .dataframe tbody tr th {\n",
       "        vertical-align: top;\n",
       "    }\n",
       "\n",
       "    .dataframe thead th {\n",
       "        text-align: right;\n",
       "    }\n",
       "</style>\n",
       "<table border=\"1\" class=\"dataframe\">\n",
       "  <thead>\n",
       "    <tr style=\"text-align: right;\">\n",
       "      <th></th>\n",
       "      <th>model</th>\n",
       "      <th>year</th>\n",
       "      <th>price</th>\n",
       "      <th>transmission</th>\n",
       "      <th>mileage</th>\n",
       "      <th>fuelType</th>\n",
       "      <th>tax</th>\n",
       "      <th>mpg</th>\n",
       "      <th>engineSize</th>\n",
       "    </tr>\n",
       "  </thead>\n",
       "  <tbody>\n",
       "    <tr>\n",
       "      <th>0</th>\n",
       "      <td>Fiesta</td>\n",
       "      <td>2017</td>\n",
       "      <td>12000</td>\n",
       "      <td>Automatic</td>\n",
       "      <td>15944</td>\n",
       "      <td>Petrol</td>\n",
       "      <td>150</td>\n",
       "      <td>57.7</td>\n",
       "      <td>1.0</td>\n",
       "    </tr>\n",
       "    <tr>\n",
       "      <th>1</th>\n",
       "      <td>Focus</td>\n",
       "      <td>2018</td>\n",
       "      <td>14000</td>\n",
       "      <td>Manual</td>\n",
       "      <td>9083</td>\n",
       "      <td>Petrol</td>\n",
       "      <td>150</td>\n",
       "      <td>57.7</td>\n",
       "      <td>1.0</td>\n",
       "    </tr>\n",
       "    <tr>\n",
       "      <th>2</th>\n",
       "      <td>Focus</td>\n",
       "      <td>2017</td>\n",
       "      <td>13000</td>\n",
       "      <td>Manual</td>\n",
       "      <td>12456</td>\n",
       "      <td>Petrol</td>\n",
       "      <td>150</td>\n",
       "      <td>57.7</td>\n",
       "      <td>1.0</td>\n",
       "    </tr>\n",
       "    <tr>\n",
       "      <th>3</th>\n",
       "      <td>Fiesta</td>\n",
       "      <td>2019</td>\n",
       "      <td>17500</td>\n",
       "      <td>Manual</td>\n",
       "      <td>10460</td>\n",
       "      <td>Petrol</td>\n",
       "      <td>145</td>\n",
       "      <td>40.3</td>\n",
       "      <td>1.5</td>\n",
       "    </tr>\n",
       "  </tbody>\n",
       "</table>\n",
       "</div>"
      ],
      "text/plain": [
       "     model  year  price transmission  mileage fuelType  tax   mpg  engineSize\n",
       "0   Fiesta  2017  12000    Automatic    15944   Petrol  150  57.7         1.0\n",
       "1    Focus  2018  14000       Manual     9083   Petrol  150  57.7         1.0\n",
       "2    Focus  2017  13000       Manual    12456   Petrol  150  57.7         1.0\n",
       "3   Fiesta  2019  17500       Manual    10460   Petrol  145  40.3         1.5"
      ]
     },
     "execution_count": 2,
     "metadata": {},
     "output_type": "execute_result"
    }
   ],
   "source": [
    "data.head(4)"
   ]
  },
  {
   "cell_type": "code",
   "execution_count": 3,
   "id": "f42323cb",
   "metadata": {},
   "outputs": [
    {
     "data": {
      "text/plain": [
       "(17965, 9)"
      ]
     },
     "execution_count": 3,
     "metadata": {},
     "output_type": "execute_result"
    }
   ],
   "source": [
    "data.shape"
   ]
  },
  {
   "cell_type": "code",
   "execution_count": 4,
   "id": "8f7b0839",
   "metadata": {},
   "outputs": [
    {
     "data": {
      "text/plain": [
       "<bound method NDFrame.describe of          model  year  price transmission  mileage fuelType  tax   mpg  \\\n",
       "0       Fiesta  2017  12000    Automatic    15944   Petrol  150  57.7   \n",
       "1        Focus  2018  14000       Manual     9083   Petrol  150  57.7   \n",
       "2        Focus  2017  13000       Manual    12456   Petrol  150  57.7   \n",
       "3       Fiesta  2019  17500       Manual    10460   Petrol  145  40.3   \n",
       "4       Fiesta  2019  16500    Automatic     1482   Petrol  145  48.7   \n",
       "...        ...   ...    ...          ...      ...      ...  ...   ...   \n",
       "17960   Fiesta  2016   7999       Manual    31348   Petrol  125  54.3   \n",
       "17961    B-MAX  2017   8999       Manual    16700   Petrol  150  47.1   \n",
       "17962    B-MAX  2014   7499       Manual    40700   Petrol   30  57.7   \n",
       "17963    Focus  2015   9999       Manual     7010   Diesel   20  67.3   \n",
       "17964       KA  2018   8299       Manual     5007   Petrol  145  57.7   \n",
       "\n",
       "       engineSize  \n",
       "0             1.0  \n",
       "1             1.0  \n",
       "2             1.0  \n",
       "3             1.5  \n",
       "4             1.0  \n",
       "...           ...  \n",
       "17960         1.2  \n",
       "17961         1.4  \n",
       "17962         1.0  \n",
       "17963         1.6  \n",
       "17964         1.2  \n",
       "\n",
       "[17965 rows x 9 columns]>"
      ]
     },
     "execution_count": 4,
     "metadata": {},
     "output_type": "execute_result"
    }
   ],
   "source": [
    "data.describe"
   ]
  },
  {
   "cell_type": "code",
   "execution_count": 5,
   "id": "ba504f7d",
   "metadata": {},
   "outputs": [
    {
     "data": {
      "text/plain": [
       "model            object\n",
       "year              int64\n",
       "price             int64\n",
       "transmission     object\n",
       "mileage           int64\n",
       "fuelType         object\n",
       "tax               int64\n",
       "mpg             float64\n",
       "engineSize      float64\n",
       "dtype: object"
      ]
     },
     "execution_count": 5,
     "metadata": {},
     "output_type": "execute_result"
    }
   ],
   "source": [
    "data.dtypes"
   ]
  },
  {
   "cell_type": "code",
   "execution_count": 6,
   "id": "279ba433",
   "metadata": {},
   "outputs": [
    {
     "data": {
      "text/plain": [
       "model           0\n",
       "year            0\n",
       "price           0\n",
       "transmission    0\n",
       "mileage         0\n",
       "fuelType        0\n",
       "tax             0\n",
       "mpg             0\n",
       "engineSize      0\n",
       "dtype: int64"
      ]
     },
     "execution_count": 6,
     "metadata": {},
     "output_type": "execute_result"
    }
   ],
   "source": [
    "data.isnull().sum()"
   ]
  },
  {
   "cell_type": "code",
   "execution_count": 7,
   "id": "347a42a9",
   "metadata": {},
   "outputs": [
    {
     "name": "stdout",
     "output_type": "stream",
     "text": [
      "year         -1.282764\n",
      "price         1.096384\n",
      "mileage       1.842042\n",
      "tax          -0.564237\n",
      "mpg           0.603903\n",
      "engineSize    1.893066\n",
      "dtype: float64\n"
     ]
    }
   ],
   "source": [
    "\n",
    "skewness = data.skew(numeric_only=True)\n",
    "\n",
    "print(skewness)"
   ]
  },
  {
   "cell_type": "code",
   "execution_count": 8,
   "id": "623330bf",
   "metadata": {},
   "outputs": [
    {
     "data": {
      "image/png": "[encoded data removed]",
      "text/plain": [
       "<Figure size 1000x600 with 2 Axes>"
      ]
     },
     "metadata": {},
     "output_type": "display_data"
    }
   ],
   "source": [
    "# 1. Draw a correlation matrix for numerical columns\n",
    "plt.figure(figsize=(10, 6))\n",
    "sns.heatmap(data.corr(numeric_only=True), annot=True, cmap=\"coolwarm\", linewidths=0.5)\n",
    "plt.title('Correlation Matrix')\n",
    "plt.show()"
   ]
  },
  {
   "cell_type": "code",
   "execution_count": 9,
   "id": "654b67b9",
   "metadata": {},
   "outputs": [
    {
     "name": "stdout",
     "output_type": "stream",
     "text": [
      "Model with highest price sold:  Focus\n",
      "Model with lowest price sold:  Focus\n"
     ]
    }
   ],
   "source": [
    "\n",
    "# 2. Find which category has the highest and lowest price sold\n",
    "high_price_category = data.groupby('model')['price'].max().idxmax()\n",
    "low_price_category = data.groupby('model')['price'].min().idxmin()\n",
    "print(f\"Model with highest price sold: {high_price_category}\")\n",
    "print(f\"Model with lowest price sold: {low_price_category}\")"
   ]
  },
  {
   "cell_type": "code",
   "execution_count": 11,
   "id": "9d3a49cb",
   "metadata": {},
   "outputs": [
    {
     "name": "stdout",
     "output_type": "stream",
     "text": [
      "Average tax price: 113.33453938213192\n",
      "Average mpg for each model type:\n",
      "model\n",
      " B-MAX                    55.678592\n",
      " C-MAX                    59.508840\n",
      " EcoSport                 53.093526\n",
      " Edge                     46.150962\n",
      " Escort                   34.400000\n",
      " Fiesta                   60.977429\n",
      " Focus                    60.089385\n",
      " Fusion                   45.393750\n",
      " Galaxy                   53.347807\n",
      " Grand C-MAX              58.367206\n",
      " Grand Tourneo Connect    60.172881\n",
      " KA                       56.092462\n",
      " Ka+                      53.329755\n",
      " Kuga                     51.677528\n",
      " Mondeo                   60.034030\n",
      " Mustang                  24.271930\n",
      " Puma                     50.136250\n",
      " Ranger                   28.300000\n",
      " S-MAX                    51.907432\n",
      " Streetka                 35.550000\n",
      " Tourneo Connect          58.148485\n",
      " Tourneo Custom           38.611594\n",
      " Transit Tourneo          42.200000\n",
      "Name: mpg, dtype: float64\n",
      "Top 5 years with the highest selling of cars by price:\n",
      "year\n",
      "2017    58488292\n",
      "2019    54861579\n",
      "2018    52815789\n",
      "2016    24861674\n",
      "2015    11999756\n",
      "Name: price, dtype: int64\n"
     ]
    }
   ],
   "source": [
    "# 3. Calculate the average tax price\n",
    "avg_tax_price = data['tax'].mean()\n",
    "print(f\"Average tax price: {avg_tax_price}\")\n",
    "\n",
    "# 4. Calculate the average miles per gallon (mpg) for each model type\n",
    "avg_mpg_per_model = data.groupby('model')['mpg'].mean()\n",
    "print(\"Average mpg for each model type:\")\n",
    "print(avg_mpg_per_model)\n",
    "\n",
    "# 5. Top 5 years with the highest selling of cars by price\n",
    "top_5_years = data.groupby('year')['price'].sum().nlargest(5)\n",
    "print(\"Top 5 years with the highest selling of cars by price:\")\n",
    "print(top_5_years)"
   ]
  },
  {
   "cell_type": "code",
   "execution_count": 16,
   "id": "cc07e21d",
   "metadata": {},
   "outputs": [
    {
     "name": "stdout",
     "output_type": "stream",
     "text": [
      "Mean Absolute Error: 864.499596725676\n",
      "Mean Squared Error: 1594357.3394201514\n",
      "R-squared: 0.9287544246467813\n"
     ]
    }
   ],
   "source": [
    "# Import necessary libraries\n",
    "import pandas as pd\n",
    "from sklearn.model_selection import train_test_split\n",
    "from sklearn.ensemble import RandomForestRegressor\n",
    "from sklearn.metrics import mean_absolute_error, mean_squared_error, r2_score\n",
    "from sklearn.preprocessing import LabelEncoder\n",
    "\n",
    "\n",
    "# Encode categorical variables (model, transmission, fuelType)\n",
    "le_model = LabelEncoder()\n",
    "le_transmission = LabelEncoder()\n",
    "le_fuelType = LabelEncoder()\n",
    "\n",
    "data['model'] = le_model.fit_transform(data['model'])\n",
    "data['transmission'] = le_transmission.fit_transform(data['transmission'])\n",
    "data['fuelType'] = le_fuelType.fit_transform(data['fuelType'])\n",
    "\n",
    "# Define features (X) and target (y)\n",
    "X = data.drop('price', axis=1)\n",
    "y = data['price']\n",
    "\n",
    "# Split the dataset into training and testing sets\n",
    "X_train, X_test, y_train, y_test = train_test_split(X, y, test_size=0.2, random_state=42)\n",
    "\n",
    "# Initialize and train the RandomForestRegressor model\n",
    "model = RandomForestRegressor(n_estimators=100, random_state=42)\n",
    "model.fit(X_train, y_train)\n",
    "\n",
    "# Make predictions\n",
    "y_pred = model.predict(X_test)\n",
    "\n",
    "# Evaluate the model\n",
    "mae = mean_absolute_error(y_test, y_pred)\n",
    "mse = mean_squared_error(y_test, y_pred)\n",
    "r2 = r2_score(y_test, y_pred)\n",
    "\n",
    "print(f\"Mean Absolute Error: {mae}\")\n",
    "print(f\"Mean Squared Error: {mse}\")\n",
    "print(f\"R-squared: {r2}\")\n"
   ]
  },
  {
   "cell_type": "code",
   "execution_count": 32,
   "id": "fe9d5177",
   "metadata": {},
   "outputs": [
    {
     "name": "stderr",
     "output_type": "stream",
     "text": [
      "C:\\Users\\Acer\\AppData\\Local\\Temp\\ipykernel_7884\\3322494411.py:2: FutureWarning: elementwise comparison failed; returning scalar instead, but in the future will perform elementwise comparison\n",
      "  if new_car_model in le_model.classes_:\n"
     ]
    }
   ],
   "source": [
    "\n",
    "new_car_model = 'Focus'\n",
    "if new_car_model in le_model.classes_:\n",
    "    encoded_model = le_model.transform([new_car_model])[0]\n",
    "else:\n",
    "    # Handle unseen category by assigning a default or new value (here, 0)\n",
    "    encoded_model = 0  # or any other logic you prefer"
   ]
  },
  {
   "cell_type": "code",
   "execution_count": 33,
   "id": "45ac01a5",
   "metadata": {},
   "outputs": [
    {
     "name": "stderr",
     "output_type": "stream",
     "text": [
      "C:\\Users\\Acer\\AppData\\Local\\Temp\\ipykernel_7884\\3227688612.py:2: FutureWarning: elementwise comparison failed; returning scalar instead, but in the future will perform elementwise comparison\n",
      "  if new_transmission in le_transmission.classes_:\n",
      "C:\\Users\\Acer\\AppData\\Local\\Temp\\ipykernel_7884\\3227688612.py:8: FutureWarning: elementwise comparison failed; returning scalar instead, but in the future will perform elementwise comparison\n",
      "  if new_fuelType in le_fuelType.classes_:\n"
     ]
    }
   ],
   "source": [
    "\n",
    "new_transmission = 'Manual'\n",
    "if new_transmission in le_transmission.classes_:\n",
    "    encoded_transmission = le_transmission.transform([new_transmission])[0]\n",
    "else:\n",
    "    encoded_transmission = 0  # Handle unseen transmission similarly\n",
    "\n",
    "new_fuelType = 'Petrol'\n",
    "if new_fuelType in le_fuelType.classes_:\n",
    "    encoded_fuelType = le_fuelType.transform([new_fuelType])[0]\n",
    "else:\n",
    "    encoded_fuelType = 0 "
   ]
  },
  {
   "cell_type": "code",
   "execution_count": 34,
   "id": "fa1c2500",
   "metadata": {},
   "outputs": [
    {
     "name": "stdout",
     "output_type": "stream",
     "text": [
      "Predicted Price: 14502.825833333334\n"
     ]
    }
   ],
   "source": [
    "new_data = pd.DataFrame({\n",
    "    'model': [encoded_model],\n",
    "    'year': [2019],\n",
    "    'transmission': [encoded_transmission],\n",
    "    'mileage': [10000],\n",
    "    'fuelType': [encoded_fuelType],\n",
    "    'tax': [150],\n",
    "    'mpg': [57.7],\n",
    "    'engineSize': [1.0]\n",
    "})\n",
    "\n",
    "new_price_prediction = model.predict(new_data)\n",
    "print(f\"Predicted Price: {new_price_prediction[0]}\")"
   ]
  },
  {
   "cell_type": "code",
   "execution_count": null,
   "id": "09c305a0",
   "metadata": {},
   "outputs": [],
   "source": []
  },
  {
   "cell_type": "code",
   "execution_count": null,
   "id": "ee450174",
   "metadata": {},
   "outputs": [],
   "source": []
  }
 ],
 "metadata": {
  "kernelspec": {
   "display_name": "Python 3 (ipykernel)",
   "language": "python",
   "name": "python3"
  },
  "language_info": {
   "codemirror_mode": {
    "name": "ipython",
    "version": 3
   },
   "file_extension": ".py",
   "mimetype": "text/x-python",
   "name": "python",
   "nbconvert_exporter": "python",
   "pygments_lexer": "ipython3",
   "version": "3.11.5"
  }
 },
 "nbformat": 4,
 "nbformat_minor": 5
}
